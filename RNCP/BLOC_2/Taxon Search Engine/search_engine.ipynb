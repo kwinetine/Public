{
 "cells": [
  {
   "cell_type": "markdown",
   "metadata": {},
   "source": [
    "## Search Engine for Taxon & Name"
   ]
  },
  {
   "cell_type": "code",
   "execution_count": 1,
   "metadata": {},
   "outputs": [],
   "source": [
    "import pandas as pd\n",
    "import numpy as np\n",
    "import pyarrow as pa\n",
    "import pyarrow.parquet as pq"
   ]
  },
  {
   "cell_type": "code",
   "execution_count": 4,
   "metadata": {},
   "outputs": [],
   "source": [
    "# Load file .parquet to Pandas DF\n",
    "df = pd.read_parquet(\"C:\\WORKSPACES\\DATA\\PROCESS\\iNat_Observations_World_EnrichedFRA.parquet\")"
   ]
  },
  {
   "cell_type": "code",
   "execution_count": 2,
   "metadata": {},
   "outputs": [],
   "source": [
    "df = pd.read_parquet(r\"C:\\WORKSPACES\\DATA\\PROCESS\\search_engine_db.parquet\")"
   ]
  },
  {
   "cell_type": "code",
   "execution_count": 3,
   "metadata": {},
   "outputs": [
    {
     "data": {
      "text/html": [
       "<div>\n",
       "<style scoped>\n",
       "    .dataframe tbody tr th:only-of-type {\n",
       "        vertical-align: middle;\n",
       "    }\n",
       "\n",
       "    .dataframe tbody tr th {\n",
       "        vertical-align: top;\n",
       "    }\n",
       "\n",
       "    .dataframe thead th {\n",
       "        text-align: right;\n",
       "    }\n",
       "</style>\n",
       "<table border=\"1\" class=\"dataframe\">\n",
       "  <thead>\n",
       "    <tr style=\"text-align: right;\">\n",
       "      <th></th>\n",
       "      <th>taxon_id</th>\n",
       "      <th>scientific_name</th>\n",
       "    </tr>\n",
       "  </thead>\n",
       "  <tbody>\n",
       "    <tr>\n",
       "      <th>0</th>\n",
       "      <td>47602</td>\n",
       "      <td>Taraxacum officinale</td>\n",
       "    </tr>\n",
       "    <tr>\n",
       "      <th>1</th>\n",
       "      <td>460193</td>\n",
       "      <td>Potentilla hebiichigo</td>\n",
       "    </tr>\n",
       "    <tr>\n",
       "      <th>2</th>\n",
       "      <td>8042</td>\n",
       "      <td>Corvus mellori</td>\n",
       "    </tr>\n",
       "    <tr>\n",
       "      <th>3</th>\n",
       "      <td>544430</td>\n",
       "      <td>Castanopsis hystrix</td>\n",
       "    </tr>\n",
       "    <tr>\n",
       "      <th>4</th>\n",
       "      <td>1024536</td>\n",
       "      <td>Rabelera holostea</td>\n",
       "    </tr>\n",
       "    <tr>\n",
       "      <th>...</th>\n",
       "      <td>...</td>\n",
       "      <td>...</td>\n",
       "    </tr>\n",
       "    <tr>\n",
       "      <th>385170</th>\n",
       "      <td>884429</td>\n",
       "      <td>Eletica luteosignata</td>\n",
       "    </tr>\n",
       "    <tr>\n",
       "      <th>385171</th>\n",
       "      <td>886732</td>\n",
       "      <td>Eusphalerum limbatum</td>\n",
       "    </tr>\n",
       "    <tr>\n",
       "      <th>385172</th>\n",
       "      <td>662548</td>\n",
       "      <td>Dira jansei</td>\n",
       "    </tr>\n",
       "    <tr>\n",
       "      <th>385173</th>\n",
       "      <td>884091</td>\n",
       "      <td>Discophora deo</td>\n",
       "    </tr>\n",
       "    <tr>\n",
       "      <th>385174</th>\n",
       "      <td>364285</td>\n",
       "      <td>Astrocaryum malybo</td>\n",
       "    </tr>\n",
       "  </tbody>\n",
       "</table>\n",
       "<p>385175 rows × 2 columns</p>\n",
       "</div>"
      ],
      "text/plain": [
       "        taxon_id        scientific_name\n",
       "0          47602   Taraxacum officinale\n",
       "1         460193  Potentilla hebiichigo\n",
       "2           8042         Corvus mellori\n",
       "3         544430    Castanopsis hystrix\n",
       "4        1024536      Rabelera holostea\n",
       "...          ...                    ...\n",
       "385170    884429   Eletica luteosignata\n",
       "385171    886732   Eusphalerum limbatum\n",
       "385172    662548            Dira jansei\n",
       "385173    884091         Discophora deo\n",
       "385174    364285     Astrocaryum malybo\n",
       "\n",
       "[385175 rows x 2 columns]"
      ]
     },
     "execution_count": 3,
     "metadata": {},
     "output_type": "execute_result"
    }
   ],
   "source": [
    "df"
   ]
  },
  {
   "cell_type": "code",
   "execution_count": 3,
   "metadata": {},
   "outputs": [],
   "source": [
    "# Function to search for taxon_id by scientific name\n",
    "def search_taxon_id_by_name(scientific_name, df):\n",
    "    # Convert the scientific_name column to lowercase for comparison\n",
    "    df[\"scientific_name_lower\"] = df[\"scientific_name\"].str.lower()\n",
    "    scientific_name = scientific_name.lower()\n",
    "    \n",
    "    filtered_df = df[df[\"scientific_name_lower\"] == scientific_name]\n",
    "    \n",
    "    if not filtered_df.empty:\n",
    "        taxon_id = filtered_df['taxon_id'].iloc[0]\n",
    "        return taxon_id\n",
    "    else:\n",
    "        return None\n",
    "\n",
    "\n",
    "# Function to search for scientific name by taxon_id\n",
    "def search_scientific_name_by_id(taxon_id, df):\n",
    "    filtered_df = df[df['taxon_id'] == taxon_id]\n",
    "    if not filtered_df.empty:\n",
    "        scientific_name = filtered_df['scientific_name'].iloc[0]\n",
    "        return scientific_name\n",
    "    else:\n",
    "        return None"
   ]
  },
  {
   "cell_type": "code",
   "execution_count": 5,
   "metadata": {},
   "outputs": [
    {
     "name": "stdout",
     "output_type": "stream",
     "text": [
      "Taxon ID for 'Corvus mellori': 8042\n"
     ]
    }
   ],
   "source": [
    "# Ask the user for input (scientific name or taxon_id)\n",
    "user_input = input(\"Enter a scientific name or a taxon_id: \")\n",
    "\n",
    "# Check if the input is a number (taxon_id) or a string (scientific name)\n",
    "if user_input.isdigit():\n",
    "    taxon_id = int(user_input)\n",
    "    scientific_name = search_scientific_name_by_id(taxon_id, df)\n",
    "    if scientific_name:\n",
    "        print(f\"Scientific name for Taxon ID {taxon_id} : {scientific_name}\")\n",
    "    else:\n",
    "        print(f\"No scientific name found for Taxon ID {taxon_id}\")\n",
    "else:\n",
    "    scientific_name = user_input\n",
    "    taxon_id = search_taxon_id_by_name(scientific_name, df)\n",
    "    if taxon_id:\n",
    "        print(f\"Taxon ID for '{scientific_name}': {taxon_id}\")\n",
    "    else:\n",
    "        print(f\"No taxon ID found for '{scientific_name}'\")\n"
   ]
  }
 ],
 "metadata": {
  "kernelspec": {
   "display_name": "Python 3",
   "language": "python",
   "name": "python3"
  },
  "language_info": {
   "codemirror_mode": {
    "name": "ipython",
    "version": 3
   },
   "file_extension": ".py",
   "mimetype": "text/x-python",
   "name": "python",
   "nbconvert_exporter": "python",
   "pygments_lexer": "ipython3",
   "version": "3.11.6"
  }
 },
 "nbformat": 4,
 "nbformat_minor": 2
}
